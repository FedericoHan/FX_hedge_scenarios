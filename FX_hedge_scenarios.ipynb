{
 "cells": [
  {
   "cell_type": "code",
   "execution_count": 8,
   "metadata": {
    "collapsed": true
   },
   "outputs": [],
   "source": [
    "import random\n",
    "import numpy as np\n",
    "import pandas as pd\n",
    "import math\n",
    "import matplotlib.pyplot as plt\n",
    "import scipy.stats\n",
    "import datetime as dt\n",
    "\n",
    "import FXOption_class"
   ]
  },
  {
   "cell_type": "code",
   "execution_count": 9,
   "metadata": {
    "collapsed": true
   },
   "outputs": [],
   "source": [
    "#for graphs to be contained inside notebook\n",
    "%matplotlib inline"
   ]
  },
  {
   "cell_type": "code",
   "execution_count": 11,
   "metadata": {
    "collapsed": false
   },
   "outputs": [
    {
     "name": "stdout",
     "output_type": "stream",
     "text": [
      "10.121655938423753 0.09975134511959609\n",
      "24157.27421973455\n",
      "24413.449448113846\n",
      "27017.821835016846\n",
      "25560.607540999026\n",
      "28973.20458809752\n"
     ]
    }
   ],
   "source": [
    "#code check debug\n",
    "volume = 25000\n",
    "dev = 2500\n",
    "mean = 2*math.log(volume) - 0.5*math.log(dev*dev+ volume * volume)\n",
    "var = -2 * math.log(volume) + math.log(dev *dev + volume * volume)\n",
    "stdev = math.sqrt(var)\n",
    "print(mean, stdev)\n",
    "for i in range(5):\n",
    "    xp = np.random.lognormal(mean, stdev)\n",
    "    print(xp)"
   ]
  },
  {
   "cell_type": "code",
   "execution_count": 2,
   "metadata": {
    "collapsed": false
   },
   "outputs": [
    {
     "data": {
      "text/plain": [
       "'https://docs.scipy.org/doc/numpy/reference/generated/numpy.random.lognormal.html\\n Note that the mean and standard deviation are not the values for the distribution itself,\\nbut of the underlying normal distribution it is derived from, thus transforming using: \\n\\nhttps://ocw.mit.edu/courses/civil-and-environmental-engineering/1-151-probability-\\n     and-statistics-in-engineering-spring-2005/lecture-notes/briefnts8_relnl.pdf'"
      ]
     },
     "execution_count": 2,
     "metadata": {},
     "output_type": "execute_result"
    }
   ],
   "source": [
    "'''https://docs.scipy.org/doc/numpy/reference/generated/numpy.random.lognormal.html\n",
    " Note that the mean and standard deviation are not the values for the distribution itself,\n",
    "but of the underlying normal distribution it is derived from, thus transforming using: \n",
    "\n",
    "https://ocw.mit.edu/courses/civil-and-environmental-engineering/1-151-probability-\n",
    "     and-statistics-in-engineering-spring-2005/lecture-notes/briefnts8_relnl.pdf''' "
   ]
  },
  {
   "cell_type": "code",
   "execution_count": 24,
   "metadata": {
    "collapsed": false
   },
   "outputs": [],
   "source": [
    "class HedgeBase(object):\n",
    "    \n",
    "    def __init__(self, revs_unit_price_local, \\\n",
    "                 mean_volume_log, sigma_volume_log, \\\n",
    "                 mean_spot_log, sigma_spot_log, var_cost, fixed_cost):\n",
    "        \n",
    "        self.revs_unit_price_local = revs_unit_price_local  #deterministic price of whatever client sells, say in USD\n",
    "        \n",
    "        self.mean_volume_log = mean_volume_log   #stochastic expected mean of volumes sold\n",
    "        self.sigma_volume_log = sigma_volume_log  #stochastic expected stDev of volumes sold.  \n",
    "        \n",
    "        self.mean_spot_log = mean_spot_log  #expected FX rate, can use forward\n",
    "        self.sigma_spot_log =  sigma_spot_log #expected FX vol, can use at-the money implieds\n",
    "        \n",
    "        self.var_cost = var_cost     #cost per each unit sold\n",
    "        self.fixed_cost = fixed_cost  #fixed cost\n",
    "        \n",
    "    #helper method, takes as input lognormal mean and stdev, transforms to normal, and makes a random draw\n",
    "    def _draw_volume_(self):#  dont need the other 2 args,mean_volume_log, sigma_volume_log):\n",
    "        \n",
    "        mean_volume_norm = 2*math.log(self.mean_volume_log) - 0.5*math.log((self.sigma_volume_log**2) \\\n",
    "                                                                           + self.mean_volume_log **2)\n",
    "        variance_volume_norm = -2 * math.log(self.mean_volume_log) + math.log((self.sigma_volume_log **2) + self.mean_volume_log**2)\n",
    "        \n",
    "        sigma_volume_norm = math.sqrt(variance_volume_norm)\n",
    "    \n",
    "        volume = np.random.lognormal(mean_volume_norm, sigma_volume_norm)\n",
    "        return volume\n",
    "    \n",
    "    #helper method, takes as input lognormal mean and stdev, transforms to normal, and makes a random draw\n",
    "    def _draw_spot_(self):\n",
    "        \n",
    "        mean_spot_norm = 2*math.log(self.mean_spot_log) - 0.5*math.log((self.sigma_spot_log**2) \\\n",
    "                                                                       + self.mean_spot_log **2)\n",
    "        variance_spot_norm = -2 * math.log(self.mean_spot_log) + math.log((self.sigma_spot_log **2)\\\n",
    "                                                                     +  self.mean_spot_log**2)\n",
    "        sigma_spot_norm = math.sqrt(variance_spot_norm)\n",
    "        \n",
    "        spot  = np.random.lognormal(mean_spot_norm,sigma_spot_norm)\n",
    "    \n",
    "        return spot\n",
    "\n",
    "    def montecarlo(self, num_draws):\n",
    "        \n",
    "         #i receive USD but have expenses in EUR, thus im short EURUSD so i buy if hedged#\n",
    "        \n",
    "        self.profit_vec = []\n",
    "        draws = 0\n",
    "        \n",
    "        while draws <= num_draws:\n",
    "            \n",
    "            profit = self._payoff_profile_()\n",
    "            self.profit_vec.append(profit)  #\n",
    "            draws += 1\n",
    "   \n",
    "        self.mean_profit = np.mean(self.profit_vec)\n",
    "        self.min_profit = min(self.profit_vec)\n",
    "        self.std_profit = np.std(self.profit_vec)\n",
    "        self.skew_profit = scipy.stats.skew(self.profit_vec)\n",
    "        \n",
    "        return (self.mean_profit, self.min_profit, self.std_profit, self.skew_profit)\n",
    "        \n",
    "    \n",
    "    def display(self, num_draws):\n",
    "        \n",
    "        self.montecarlo(num_draws)\n",
    "        print('mean '+str(self.mean_profit))\n",
    "        print('stDev: '+str(self.std_profit)) \n",
    "        print('min :' +str(self.min_profit))\n",
    "        print('skew :' +str(self.skew_profit))\n",
    "        count, bins, ignored = plt.hist(self.profit_vec , 100, normed = True, color = 'orange')\n",
    "        plt.plot()\n",
    "    \n",
    "    \n",
    "    def __str__(self):\n",
    "        return \"(%0.2f, %0.2f)\"%(self.revs_unit_price_local, self.mean_volume_log)\n"
   ]
  },
  {
   "cell_type": "code",
   "execution_count": 25,
   "metadata": {
    "collapsed": true
   },
   "outputs": [],
   "source": [
    "class HedgeNone(HedgeBase):\n",
    "    def __init__(self,  revs_unit_price_local, \\\n",
    "                 mean_volume_log, sigma_volume_log, \\\n",
    "                 mean_spot_log, sigma_spot_log, var_cost, fixed_cost):\n",
    "        HedgeBase.__init__(self, revs_unit_price_local, \\\n",
    "                           mean_volume_log, sigma_volume_log, \\\n",
    "                           mean_spot_log, sigma_spot_log, var_cost, fixed_cost)\n",
    "    \n",
    "    def _payoff_profile_(self):\n",
    "        \n",
    "        volume = self._draw_volume_()\n",
    "        #spot = draw_spot_(self.mean_spot_log, self.sigma_spot_log)  or\n",
    "        spot = self._draw_spot_()\n",
    "        self.profit = self.revs_unit_price_local * volume - spot * self.var_cost * volume - self.fixed_cost \n",
    "        \n",
    "        return self.profit        "
   ]
  },
  {
   "cell_type": "code",
   "execution_count": 55,
   "metadata": {
    "collapsed": false
   },
   "outputs": [],
   "source": [
    "class HedgeForward(HedgeBase):\n",
    "    def __init__(self,  revs_unit_price_local, \\\n",
    "                 mean_volume_log, sigma_volume_log, \\\n",
    "                 mean_spot_log, sigma_spot_log, var_cost, fixed_cost, hedge_percentage):\n",
    "        \n",
    "        self.hedge_percentage = hedge_percentage\n",
    "        \n",
    "        HedgeBase.__init__(self, revs_unit_price_local, \\\n",
    "                           mean_volume_log, sigma_volume_log, \\\n",
    "                           mean_spot_log, sigma_spot_log, var_cost, fixed_cost)\n",
    "                           \n",
    "\n",
    "    def _payoff_profile_(self):\n",
    "        \n",
    "        volume = self._draw_volume_()\n",
    "        #spot = draw_spot_(self.mean_spot_log, self.sigma_spot_log)  or\n",
    "        spot = self._draw_spot_()\n",
    "    \n",
    "        hedge_notional = self.hedge_percentage *  self.mean_volume_log*self.var_cost  \n",
    "        forward_rate_t0 = self.mean_spot_log #can make it actual forward later \n",
    "        \n",
    "        self.profit = self.revs_unit_price_local * volume - spot * self.var_cost * volume - self.fixed_cost +hedge_notional*\\\n",
    "            (spot - forward_rate_t0)\n",
    "            \n",
    "        return self.profit  "
   ]
  },
  {
   "cell_type": "code",
   "execution_count": 71,
   "metadata": {
    "collapsed": true
   },
   "outputs": [],
   "source": [
    "class HedgeFXO(HedgeBase):\n",
    "    \n",
    "    def __init__(self, revs_unit_price_local, \\\n",
    "                 mean_volume_log, sigma_volume_log, \\\n",
    "                 mean_spot_log, sigma_spot_log, var_cost, fixed_cost, \\\n",
    "                strike, vol, r_dom, r_for, time, notional ):\n",
    "        \n",
    "        self.strike = strike\n",
    "        self.vol = vol\n",
    "        self.r_dom = r_dom\n",
    "        self.r_for = r_for\n",
    "        self.time = time\n",
    "        self.notional = notional\n",
    "        \n",
    "        \n",
    "        HedgeNone.__init__(self, revs_unit_price_local, \\\n",
    "                           mean_volume_log, sigma_volume_log, \\\n",
    "                           mean_spot_log, sigma_spot_log, var_cost, fixed_cost)\n",
    "        \n",
    "    def _payoff_profile_(self): \n",
    "        \n",
    "        volume = self._draw_volume_()\n",
    "        spot = self._draw_spot_()\n",
    "        \n",
    "        hedge_notional = self.mean_volume_log * self.var_cost\n",
    "        strike = self.mean_spot_log\n",
    "        premium = FXOption_class.FXOption(\"Call\", self.mean_spot_log,  self.strike,  self.vol,  self.r_dom, \\\n",
    "                                          self.r_for, self.time, self.notional, \"\").price()\n",
    "        \n",
    "        #print('premium is '+str(premium))\n",
    "        self.profit = self.revs_unit_price_local * volume - spot * self.var_cost *volume - self.fixed_cost + hedge_notional * \\\n",
    "        max(spot - strike, 0.0) - premium\n",
    "        return self.profit"
   ]
  },
  {
   "cell_type": "code",
   "execution_count": 75,
   "metadata": {
    "collapsed": false
   },
   "outputs": [
    {
     "name": "stdout",
     "output_type": "stream",
     "text": [
      "mean 2253415.17891\n",
      "stDev: 3087713.00652\n",
      "min :-13279002.090202708\n",
      "skew :-0.23492942683159343\n"
     ]
    },
    {
     "data": {
      "image/png": "[encoded data removed]",
      "text/plain": [
       "<matplotlib.figure.Figure at 0xb1d12b0>"
      ]
     },
     "metadata": {},
     "output_type": "display_data"
    }
   ],
   "source": [
    "sales_price = 1350\n",
    "expected_volume = 25000\n",
    "expected_volume_deviation = expected_volume * 0.1\n",
    "expected_spot = 1.22\n",
    "st_dev_spot = expected_spot * 0.1\n",
    "cost_per_unit = 1000\n",
    "fixed_cost = 1000000\n",
    "\n",
    "\n",
    "unhedged = HedgeNone(sales_price, expected_volume, expected_volume_deviation, expected_spot, st_dev_spot, cost_per_unit,\\\n",
    "                     fixed_cost)\n",
    "unhedged.display(100000)"
   ]
  },
  {
   "cell_type": "code",
   "execution_count": 60,
   "metadata": {
    "collapsed": false
   },
   "outputs": [
    {
     "name": "stdout",
     "output_type": "stream",
     "text": [
      "mean 2250174.23147\n",
      "stDev: 542149.515925\n",
      "min :-1146653.3361379784\n",
      "skew :1.1830861853216637\n"
     ]
    },
    {
     "data": {
      "image/png": "[encoded data removed]",
      "text/plain": [
       "<matplotlib.figure.Figure at 0xb8d9e80>"
      ]
     },
     "metadata": {},
     "output_type": "display_data"
    }
   ],
   "source": [
    "forward = HedgeForward(sales_price, expected_volume, expected_volume_deviation, expected_spot, st_dev_spot, cost_per_unit,\\\n",
    "                     fixed_cost, 0.9)\n",
    "forward.display(100000)"
   ]
  },
  {
   "cell_type": "code",
   "execution_count": 73,
   "metadata": {
    "collapsed": false
   },
   "outputs": [
    {
     "name": "stdout",
     "output_type": "stream",
     "text": [
      "mean 2103031.45823\n",
      "stDev: 1730974.01934\n",
      "min :-1029756.26558\n",
      "skew :1.5309554584155245\n"
     ]
    },
    {
     "data": {
      "image/png": "[encoded data removed]",
      "text/plain": [
       "<matplotlib.figure.Figure at 0xd4a17f0>"
      ]
     },
     "metadata": {},
     "output_type": "display_data"
    }
   ],
   "source": [
    "option = HedgeFXO(sales_price, expected_volume, expected_volume_deviation, expected_spot, st_dev_spot, cost_per_unit,\\\n",
    "                     fixed_cost, 1.14, 0.10, 0, 0, 1, sales_price * expected_volume)\n",
    "option.display(10000)"
   ]
  },
  {
   "cell_type": "code",
   "execution_count": 11,
   "metadata": {
    "collapsed": true
   },
   "outputs": [],
   "source": [
    "import sys"
   ]
  },
  {
   "cell_type": "code",
   "execution_count": 14,
   "metadata": {
    "collapsed": false
   },
   "outputs": [
    {
     "name": "stdout",
     "output_type": "stream",
     "text": [
      "['', 'C:\\\\Users\\\\cp85vc\\\\AppData\\\\Local\\\\Continuum\\\\Anaconda3\\\\python35.zip', 'C:\\\\Users\\\\cp85vc\\\\AppData\\\\Local\\\\Continuum\\\\Anaconda3\\\\DLLs', 'C:\\\\Users\\\\cp85vc\\\\AppData\\\\Local\\\\Continuum\\\\Anaconda3\\\\lib', 'C:\\\\Users\\\\cp85vc\\\\AppData\\\\Local\\\\Continuum\\\\Anaconda3', 'c:\\\\users\\\\cp85vc\\\\appdata\\\\local\\\\continuum\\\\anaconda3\\\\lib\\\\site-packages\\\\setuptools-20.3-py3.5.egg', 'C:\\\\Users\\\\cp85vc\\\\AppData\\\\Local\\\\Continuum\\\\Anaconda3\\\\lib\\\\site-packages', 'C:\\\\Users\\\\cp85vc\\\\AppData\\\\Local\\\\Continuum\\\\Anaconda3\\\\lib\\\\site-packages\\\\Sphinx-1.3.5-py3.5.egg', 'C:\\\\Users\\\\cp85vc\\\\AppData\\\\Local\\\\Continuum\\\\Anaconda3\\\\lib\\\\site-packages\\\\win32', 'C:\\\\Users\\\\cp85vc\\\\AppData\\\\Local\\\\Continuum\\\\Anaconda3\\\\lib\\\\site-packages\\\\win32\\\\lib', 'C:\\\\Users\\\\cp85vc\\\\AppData\\\\Local\\\\Continuum\\\\Anaconda3\\\\lib\\\\site-packages\\\\Pythonwin', 'C:\\\\Users\\\\cp85vc\\\\AppData\\\\Local\\\\Continuum\\\\Anaconda3\\\\lib\\\\site-packages\\\\IPython\\\\extensions', 'C:\\\\Users\\\\cp85vc\\\\.ipython']\n"
     ]
    }
   ],
   "source": [
    "print(sys.path)"
   ]
  }
 ],
 "metadata": {
  "kernelspec": {
   "display_name": "Python 3",
   "language": "python",
   "name": "python3"
  },
  "language_info": {
   "codemirror_mode": {
    "name": "ipython",
    "version": 3
   },
   "file_extension": ".py",
   "mimetype": "text/x-python",
   "name": "python",
   "nbconvert_exporter": "python",
   "pygments_lexer": "ipython3",
   "version": "3.5.1"
  }
 },
 "nbformat": 4,
 "nbformat_minor": 2
}
