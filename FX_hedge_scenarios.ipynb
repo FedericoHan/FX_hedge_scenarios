{
 "cells": [
  {
   "cell_type": "code",
   "execution_count": 80,
   "metadata": {
    "collapsed": true
   },
   "outputs": [],
   "source": [
    "import random\n",
    "import numpy as np\n",
    "import pandas as pd\n",
    "import math\n",
    "import matplotlib.pyplot as plt\n",
    "import scipy.stats\n",
    "import datetime as dt\n",
    "\n",
    "import FXOption_class"
   ]
  },
  {
   "cell_type": "code",
   "execution_count": 2,
   "metadata": {
    "collapsed": true
   },
   "outputs": [],
   "source": [
    "#for graphs to be contained inside notebook\n",
    "%matplotlib inline"
   ]
  },
  {
   "cell_type": "code",
   "execution_count": 3,
   "metadata": {
    "collapsed": false
   },
   "outputs": [
    {
     "name": "stdout",
     "output_type": "stream",
     "text": [
      "10.121655938423753 0.09975134511959609\n",
      "22185.99109743756\n",
      "24197.95571863633\n",
      "20980.085394520982\n",
      "25697.688096959257\n",
      "26825.163271841066\n"
     ]
    }
   ],
   "source": [
    "#code check debug\n",
    "volume = 25000\n",
    "dev = 2500\n",
    "mean = 2*math.log(volume) - 0.5*math.log(dev*dev+ volume * volume)\n",
    "var = -2 * math.log(volume) + math.log(dev *dev + volume * volume)\n",
    "stdev = math.sqrt(var)cp85\n",
    "print(mean, stdev)\n",
    "for i in range(5):\n",
    "    xp = np.random.lognormal(mean, stdev)\n",
    "    print(xp)"
   ]
  },
  {
   "cell_type": "code",
   "execution_count": 81,
   "metadata": {
    "collapsed": false
   },
   "outputs": [],
   "source": [
    "\n",
    "\n",
    "class PayoffProfiles(object):\n",
    "    \n",
    "    def __init__(self, revs_unit_price_local, mean_volume_log, sigma_volume_log, \\\n",
    "                mean_spot_log, sigma_spot_log, var_cost, fixed_cost):\n",
    "        \n",
    "        self.revs_unit_price_local = revs_unit_price_local  #deterministic price of whatever client sells, say in USD\n",
    "        \n",
    "        self.mean_volume_log = mean_volume_log   #stochastic expected mean of volumes sold\n",
    "        self.sigma_volume_log = sigma_volume_log  #stochastic expected stDev of volumes sold.  \n",
    "        \n",
    "        self.mean_spot_log = mean_spot_log  #expected FX rate, can use forward\n",
    "        self.sigma_spot_log =  sigma_spot_log #expected FX vol, can use at-the money implieds\n",
    "        self.var_cost = var_cost\n",
    "        self.fixed_cost = fixed_cost\n",
    "        \n",
    "        '''https://docs.scipy.org/doc/numpy/reference/generated/numpy.random.lognormal.html\n",
    " Note that the mean and standard deviation are not the values for the distribution itself,\n",
    "but of the underlying normal distribution it is derived from, thus transforming using: \n",
    "\n",
    "https://ocw.mit.edu/courses/civil-and-environmental-engineering/1-151-probability-\n",
    "     and-statistics-in-engineering-spring-2005/lecture-notes/briefnts8_relnl.pdf''' \n",
    "        \n",
    "    def _draw_volume_(self):#  dont need the other 2 args,mean_volume_log, sigma_volume_log):\n",
    "        \n",
    "        #helper method, takes as input lognormal mean and stdev, transforms to normal, and makes a random draw\n",
    "        mean_volume_norm = 2*math.log(self.mean_volume_log) - 0.5*math.log((self.sigma_volume_log**2) \\\n",
    "                                                                           + self.mean_volume_log **2)\n",
    "        variance_volume_norm = -2 * math.log(self.mean_volume_log) + math.log((self.sigma_volume_log **2) + self.mean_volume_log**2)\n",
    "        \n",
    "        sigma_volume_norm = math.sqrt(variance_volume_norm)\n",
    "    \n",
    "        volume = np.random.lognormal(mean_volume_norm, sigma_volume_norm)\n",
    "        return volume\n",
    "\n",
    "    def _draw_spot_(self):\n",
    "        \n",
    "        #helper method, takes as input lognormal mean and stdev, transforms to normal, and makes a random draw\n",
    "    \n",
    "        mean_spot_norm = 2*math.log(self.mean_spot_log) - 0.5*math.log((self.sigma_spot_log**2) \\\n",
    "                                                                       + self.mean_spot_log **2)\n",
    "        variance_spot_norm = -2 * math.log(self.mean_spot_log) + math.log((self.sigma_spot_log **2)\\\n",
    "                                                                     +  self.mean_spot_log**2)\n",
    "        sigma_spot_norm = math.sqrt(variance_spot_norm)\n",
    "    \n",
    "        spot  = np.random.lognormal(mean_spot_norm,sigma_spot_norm)\n",
    "    \n",
    "        return spot\n",
    "    \n",
    "    def unhedged_profile(self, num_draws):\n",
    "        \n",
    "         #i receive USD but have expenses in EUR, thus im short EURUSD so i buy if hedged#\n",
    "        \n",
    "        profit_vec = []\n",
    "        draws = 0\n",
    "        while draws <= num_draws:\n",
    "            volume = self._draw_volume_()\n",
    "            #spot = draw_spot_(self.mean_spot_log, self.sigma_spot_log)  or\n",
    "            spot = self._draw_spot_()\n",
    "\n",
    "            profit = self.revs_unit_price_local * volume - spot * self.var_cost * volume - self.fixed_cost \n",
    "            \n",
    "            profit_vec.append(profit)\n",
    "            draws += 1\n",
    "   \n",
    "        mean_profit = np.mean(profit_vec)\n",
    "        min_profit = min(profit_vec)\n",
    "        std_profit = np.std(profit_vec)\n",
    "        skew_profit = scipy.stats.skew(profit_vec)\n",
    "    \n",
    "        print('mean '+str(mean_profit))\n",
    "        print('stDev: '+str(std_profit)) \n",
    "        print('min :' +str(min_profit))\n",
    "        print('skew :' +str(skew_profit))\n",
    "        count, bins, ignored = plt.hist(profit_vec , 100, normed = True)\n",
    "        plt.plot()\n",
    "        \n",
    "    #distribution of profits hedged with forward\n",
    "    def hedged_profit_forward(self, num_draws):\n",
    "\n",
    "\n",
    "        hedge_notional = self.mean_volume_log*self.var_cost  #hedging with full expected revenue\n",
    "        forward_rate_t0 = self.mean_spot_log #can make it actual forward later \n",
    "    \n",
    "        profit_vec = []\n",
    "        draws = 0\n",
    "        \n",
    "        while draws <= num_draws:\n",
    "            volume = self._draw_volume_()\n",
    "\n",
    "            spot = self._draw_spot_() \n",
    "            #print(spot)\n",
    "            profit = self.revs_unit_price_local * volume - spot * self.var_cost * volume - self.fixed_cost  +hedge_notional*\\\n",
    "            (spot - forward_rate_t0)\n",
    "            profit_vec.append(profit)\n",
    "            draws += 1\n",
    "   \n",
    "        mean_profit = np.mean(profit_vec)\n",
    "        min_profit = min(profit_vec)\n",
    "        std_profit = np.std(profit_vec)\n",
    "        skew_profit = scipy.stats.skew(profit_vec)\n",
    "    \n",
    "        print('mean '+str(mean_profit))\n",
    "        print('stDev: '+str(std_profit)) \n",
    "        print('min :' +str(min_profit))\n",
    "        print('skew :' +str(skew_profit))\n",
    "        count, bins, ignored = plt.hist(profit_vec , 100, normed = True)\n",
    "        plt.plot()\n",
    "        plt.show()\n",
    "        \n",
    "        #distribution of profits hedged with vanilla fxo\n",
    "    def hedged_profit_vanilla(self, num_draws):\n",
    "\n",
    "\n",
    "        hedge_notional = self.mean_volume_log*self.var_cost  #hedging with full expected revenue\n",
    "        strike = self.mean_spot_log #can make forward or whatever later\n",
    "        premium = FXOption_class.FXOption(\"Call\", self.mean_spot_log,  self.mean_spot_log,  0.14,  0.0, 0.0, \\\n",
    "                                               1.0,  (self.mean_volume_log * self.mean_spot_log), \"\").price()\n",
    "        print(premium)\n",
    "\n",
    "        profit_vec = []\n",
    "        draws = 0\n",
    "        while draws <= num_draws:\n",
    "            volume = self._draw_volume_()\n",
    "            \n",
    "            spot = draw_spot(self.mean_spot_log, self.sigma_spot_log)  \n",
    "            profit = self.revs_unit_price_local * volume - spot * self.var_cost * volume - self.fixed_cost \\\n",
    "            + hedge_notional*max(spot - strike, 0.0)- premium\n",
    "        #print(profit)\n",
    "            profit_vec.append(profit)\n",
    "            draws += 1\n",
    "   \n",
    "        mean_profit = np.mean(profit_vec)\n",
    "        min_profit = min(profit_vec)\n",
    "        std_profit = np.std(profit_vec)\n",
    "        skew_profit = scipy.stats.skew(profit_vec)\n",
    "    \n",
    "        print('mean '+str(mean_profit))\n",
    "        print('stDev: '+str(std_profit)) \n",
    "        print('min :' +str(min_profit))\n",
    "        print('skew :' +str(skew_profit))\n",
    "        count, bins, ignored = plt.hist(profit_vec , 100, normed = True)\n",
    "        plt.plot()\n",
    "        plt.show()\n",
    "\n",
    "        \n",
    "        \n",
    "        \n",
    "    "
   ]
  },
  {
   "cell_type": "code",
   "execution_count": 79,
   "metadata": {
    "collapsed": false
   },
   "outputs": [
    {
     "name": "stdout",
     "output_type": "stream",
     "text": [
      "mean 2288882.8479\n",
      "stDev: 3108630.4692\n",
      "min :-12960251.65455886\n",
      "skew :-0.22058447822212165\n"
     ]
    },
    {
     "data": {
      "image/png": "[encoded data removed]",
      "text/plain": [
       "<matplotlib.figure.Figure at 0xb8ff208>"
      ]
     },
     "metadata": {},
     "output_type": "display_data"
    }
   ],
   "source": [
    "something = PayoffProfiles(1350,  25000, 2500,  1.22, 0.122, 1000, 1000000)\n",
    "something._draw_volume_()\n",
    "something.unhedged_profile(10000)"
   ]
  },
  {
   "cell_type": "code",
   "execution_count": 64,
   "metadata": {
    "collapsed": false
   },
   "outputs": [
    {
     "name": "stdout",
     "output_type": "stream",
     "text": [
      "mean 2249235.21177\n",
      "stDev: 443658.625648\n",
      "min :-326471.97496163566\n",
      "skew :0.36730899072911954\n"
     ]
    },
    {
     "data": {
      "image/png": "[encoded data removed]",
      "text/plain": [
       "<matplotlib.figure.Figure at 0xb5dd7f0>"
      ]
     },
     "metadata": {},
     "output_type": "display_data"
    }
   ],
   "source": [
    "something.hedged_profit_forward(10000)"
   ]
  },
  {
   "cell_type": "code",
   "execution_count": 77,
   "metadata": {
    "collapsed": false
   },
   "outputs": [
    {
     "name": "stdout",
     "output_type": "stream",
     "text": [
      "1702.09338101\n",
      "mean 3466859.56967\n",
      "stDev: 1736366.86931\n",
      "min :-1423935.66031\n",
      "skew :1.504096642700333\n"
     ]
    },
    {
     "data": {
      "image/png": "[encoded data removed]",
      "text/plain": [
       "<matplotlib.figure.Figure at 0xbd05a20>"
      ]
     },
     "metadata": {},
     "output_type": "display_data"
    }
   ],
   "source": [
    "something.hedged_profit_vanilla(10000)"
   ]
  },
  {
   "cell_type": "code",
   "execution_count": 11,
   "metadata": {
    "collapsed": true
   },
   "outputs": [],
   "source": [
    "import sys"
   ]
  },
  {
   "cell_type": "code",
   "execution_count": 14,
   "metadata": {
    "collapsed": false
   },
   "outputs": [
    {
     "name": "stdout",
     "output_type": "stream",
     "text": [
      "['', 'C:\\\\Users\\\\cp85vc\\\\AppData\\\\Local\\\\Continuum\\\\Anaconda3\\\\python35.zip', 'C:\\\\Users\\\\cp85vc\\\\AppData\\\\Local\\\\Continuum\\\\Anaconda3\\\\DLLs', 'C:\\\\Users\\\\cp85vc\\\\AppData\\\\Local\\\\Continuum\\\\Anaconda3\\\\lib', 'C:\\\\Users\\\\cp85vc\\\\AppData\\\\Local\\\\Continuum\\\\Anaconda3', 'c:\\\\users\\\\cp85vc\\\\appdata\\\\local\\\\continuum\\\\anaconda3\\\\lib\\\\site-packages\\\\setuptools-20.3-py3.5.egg', 'C:\\\\Users\\\\cp85vc\\\\AppData\\\\Local\\\\Continuum\\\\Anaconda3\\\\lib\\\\site-packages', 'C:\\\\Users\\\\cp85vc\\\\AppData\\\\Local\\\\Continuum\\\\Anaconda3\\\\lib\\\\site-packages\\\\Sphinx-1.3.5-py3.5.egg', 'C:\\\\Users\\\\cp85vc\\\\AppData\\\\Local\\\\Continuum\\\\Anaconda3\\\\lib\\\\site-packages\\\\win32', 'C:\\\\Users\\\\cp85vc\\\\AppData\\\\Local\\\\Continuum\\\\Anaconda3\\\\lib\\\\site-packages\\\\win32\\\\lib', 'C:\\\\Users\\\\cp85vc\\\\AppData\\\\Local\\\\Continuum\\\\Anaconda3\\\\lib\\\\site-packages\\\\Pythonwin', 'C:\\\\Users\\\\cp85vc\\\\AppData\\\\Local\\\\Continuum\\\\Anaconda3\\\\lib\\\\site-packages\\\\IPython\\\\extensions', 'C:\\\\Users\\\\cp85vc\\\\.ipython']\n"
     ]
    }
   ],
   "source": [
    "print(sys.path)"
   ]
  },
  {
   "cell_type": "code",
   "execution_count": 18,
   "metadata": {
    "collapsed": false
   },
   "outputs": [
    {
     "name": "stdout",
     "output_type": "stream",
     "text": [
      "hello\n"
     ]
    }
   ],
   "source": [
    "FXOption_class.printhello()"
   ]
  }
 ],
 "metadata": {
  "kernelspec": {
   "display_name": "Python 3",
   "language": "python",
   "name": "python3"
  },
  "language_info": {
   "codemirror_mode": {
    "name": "ipython",
    "version": 3
   },
   "file_extension": ".py",
   "mimetype": "text/x-python",
   "name": "python",
   "nbconvert_exporter": "python",
   "pygments_lexer": "ipython3",
   "version": "3.5.1"
  }
 },
 "nbformat": 4,
 "nbformat_minor": 2
}
